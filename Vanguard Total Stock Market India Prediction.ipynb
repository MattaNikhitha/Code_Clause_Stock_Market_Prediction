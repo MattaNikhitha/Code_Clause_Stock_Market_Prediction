{
 "cells": [
  {
   "cell_type": "markdown",
   "id": "2039bcb8",
   "metadata": {},
   "source": [
    "# Importing the libraries"
   ]
  },
  {
   "cell_type": "code",
   "execution_count": 1,
   "id": "60f40ffb",
   "metadata": {},
   "outputs": [],
   "source": [
    "import numpy as np\n",
    "import pandas as pd\n",
    "import matplotlib.pyplot as plt\n",
    "%matplotlib inline"
   ]
  },
  {
   "cell_type": "code",
   "execution_count": 2,
   "id": "506d58aa",
   "metadata": {},
   "outputs": [],
   "source": [
    "data=pd.read_csv('VTI.csv')"
   ]
  },
  {
   "cell_type": "code",
   "execution_count": 3,
   "id": "2278e61b",
   "metadata": {},
   "outputs": [
    {
     "data": {
      "text/html": [
       "<div>\n",
       "<style scoped>\n",
       "    .dataframe tbody tr th:only-of-type {\n",
       "        vertical-align: middle;\n",
       "    }\n",
       "\n",
       "    .dataframe tbody tr th {\n",
       "        vertical-align: top;\n",
       "    }\n",
       "\n",
       "    .dataframe thead th {\n",
       "        text-align: right;\n",
       "    }\n",
       "</style>\n",
       "<table border=\"1\" class=\"dataframe\">\n",
       "  <thead>\n",
       "    <tr style=\"text-align: right;\">\n",
       "      <th></th>\n",
       "      <th>Date</th>\n",
       "      <th>Open</th>\n",
       "      <th>High</th>\n",
       "      <th>Low</th>\n",
       "      <th>Close</th>\n",
       "      <th>Adj Close</th>\n",
       "      <th>Volume</th>\n",
       "    </tr>\n",
       "  </thead>\n",
       "  <tbody>\n",
       "    <tr>\n",
       "      <th>0</th>\n",
       "      <td>2010-01-04</td>\n",
       "      <td>56.860001</td>\n",
       "      <td>57.380001</td>\n",
       "      <td>56.840000</td>\n",
       "      <td>57.310001</td>\n",
       "      <td>44.688660</td>\n",
       "      <td>2251500</td>\n",
       "    </tr>\n",
       "    <tr>\n",
       "      <th>1</th>\n",
       "      <td>2010-01-05</td>\n",
       "      <td>57.340000</td>\n",
       "      <td>57.540001</td>\n",
       "      <td>57.110001</td>\n",
       "      <td>57.529999</td>\n",
       "      <td>44.860222</td>\n",
       "      <td>1597700</td>\n",
       "    </tr>\n",
       "    <tr>\n",
       "      <th>2</th>\n",
       "      <td>2010-01-06</td>\n",
       "      <td>57.500000</td>\n",
       "      <td>57.720001</td>\n",
       "      <td>57.410000</td>\n",
       "      <td>57.610001</td>\n",
       "      <td>44.922607</td>\n",
       "      <td>2120300</td>\n",
       "    </tr>\n",
       "    <tr>\n",
       "      <th>3</th>\n",
       "      <td>2010-01-07</td>\n",
       "      <td>57.549999</td>\n",
       "      <td>57.889999</td>\n",
       "      <td>57.290001</td>\n",
       "      <td>57.849998</td>\n",
       "      <td>45.109753</td>\n",
       "      <td>1656700</td>\n",
       "    </tr>\n",
       "    <tr>\n",
       "      <th>4</th>\n",
       "      <td>2010-01-08</td>\n",
       "      <td>57.700001</td>\n",
       "      <td>58.049999</td>\n",
       "      <td>57.560001</td>\n",
       "      <td>58.040001</td>\n",
       "      <td>45.257896</td>\n",
       "      <td>1650000</td>\n",
       "    </tr>\n",
       "    <tr>\n",
       "      <th>...</th>\n",
       "      <td>...</td>\n",
       "      <td>...</td>\n",
       "      <td>...</td>\n",
       "      <td>...</td>\n",
       "      <td>...</td>\n",
       "      <td>...</td>\n",
       "      <td>...</td>\n",
       "    </tr>\n",
       "    <tr>\n",
       "      <th>3412</th>\n",
       "      <td>2023-07-26</td>\n",
       "      <td>226.429993</td>\n",
       "      <td>227.770004</td>\n",
       "      <td>226.050003</td>\n",
       "      <td>227.059998</td>\n",
       "      <td>227.059998</td>\n",
       "      <td>1985600</td>\n",
       "    </tr>\n",
       "    <tr>\n",
       "      <th>3413</th>\n",
       "      <td>2023-07-27</td>\n",
       "      <td>228.809998</td>\n",
       "      <td>228.970001</td>\n",
       "      <td>224.830002</td>\n",
       "      <td>225.309998</td>\n",
       "      <td>225.309998</td>\n",
       "      <td>4730600</td>\n",
       "    </tr>\n",
       "    <tr>\n",
       "      <th>3414</th>\n",
       "      <td>2023-07-28</td>\n",
       "      <td>227.169998</td>\n",
       "      <td>228.029999</td>\n",
       "      <td>226.770004</td>\n",
       "      <td>227.660004</td>\n",
       "      <td>227.660004</td>\n",
       "      <td>2257600</td>\n",
       "    </tr>\n",
       "    <tr>\n",
       "      <th>3415</th>\n",
       "      <td>2023-07-31</td>\n",
       "      <td>228.119995</td>\n",
       "      <td>228.559998</td>\n",
       "      <td>227.559998</td>\n",
       "      <td>228.350006</td>\n",
       "      <td>228.350006</td>\n",
       "      <td>2658500</td>\n",
       "    </tr>\n",
       "    <tr>\n",
       "      <th>3416</th>\n",
       "      <td>2023-08-01</td>\n",
       "      <td>227.649994</td>\n",
       "      <td>228.000000</td>\n",
       "      <td>227.070007</td>\n",
       "      <td>227.729996</td>\n",
       "      <td>227.729996</td>\n",
       "      <td>2809500</td>\n",
       "    </tr>\n",
       "  </tbody>\n",
       "</table>\n",
       "<p>3417 rows × 7 columns</p>\n",
       "</div>"
      ],
      "text/plain": [
       "            Date        Open        High         Low       Close   Adj Close  \\\n",
       "0     2010-01-04   56.860001   57.380001   56.840000   57.310001   44.688660   \n",
       "1     2010-01-05   57.340000   57.540001   57.110001   57.529999   44.860222   \n",
       "2     2010-01-06   57.500000   57.720001   57.410000   57.610001   44.922607   \n",
       "3     2010-01-07   57.549999   57.889999   57.290001   57.849998   45.109753   \n",
       "4     2010-01-08   57.700001   58.049999   57.560001   58.040001   45.257896   \n",
       "...          ...         ...         ...         ...         ...         ...   \n",
       "3412  2023-07-26  226.429993  227.770004  226.050003  227.059998  227.059998   \n",
       "3413  2023-07-27  228.809998  228.970001  224.830002  225.309998  225.309998   \n",
       "3414  2023-07-28  227.169998  228.029999  226.770004  227.660004  227.660004   \n",
       "3415  2023-07-31  228.119995  228.559998  227.559998  228.350006  228.350006   \n",
       "3416  2023-08-01  227.649994  228.000000  227.070007  227.729996  227.729996   \n",
       "\n",
       "       Volume  \n",
       "0     2251500  \n",
       "1     1597700  \n",
       "2     2120300  \n",
       "3     1656700  \n",
       "4     1650000  \n",
       "...       ...  \n",
       "3412  1985600  \n",
       "3413  4730600  \n",
       "3414  2257600  \n",
       "3415  2658500  \n",
       "3416  2809500  \n",
       "\n",
       "[3417 rows x 7 columns]"
      ]
     },
     "execution_count": 3,
     "metadata": {},
     "output_type": "execute_result"
    }
   ],
   "source": [
    "data"
   ]
  },
  {
   "cell_type": "markdown",
   "id": "bf0f1673",
   "metadata": {},
   "source": [
    "# Data Preprocessing"
   ]
  },
  {
   "cell_type": "code",
   "execution_count": 4,
   "id": "ee386322",
   "metadata": {},
   "outputs": [
    {
     "data": {
      "text/html": [
       "<div>\n",
       "<style scoped>\n",
       "    .dataframe tbody tr th:only-of-type {\n",
       "        vertical-align: middle;\n",
       "    }\n",
       "\n",
       "    .dataframe tbody tr th {\n",
       "        vertical-align: top;\n",
       "    }\n",
       "\n",
       "    .dataframe thead th {\n",
       "        text-align: right;\n",
       "    }\n",
       "</style>\n",
       "<table border=\"1\" class=\"dataframe\">\n",
       "  <thead>\n",
       "    <tr style=\"text-align: right;\">\n",
       "      <th></th>\n",
       "      <th>Date</th>\n",
       "      <th>Open</th>\n",
       "      <th>High</th>\n",
       "      <th>Low</th>\n",
       "      <th>Close</th>\n",
       "      <th>Adj Close</th>\n",
       "      <th>Volume</th>\n",
       "    </tr>\n",
       "  </thead>\n",
       "  <tbody>\n",
       "    <tr>\n",
       "      <th>0</th>\n",
       "      <td>2010-01-04</td>\n",
       "      <td>56.860001</td>\n",
       "      <td>57.380001</td>\n",
       "      <td>56.840000</td>\n",
       "      <td>57.310001</td>\n",
       "      <td>44.688660</td>\n",
       "      <td>2251500</td>\n",
       "    </tr>\n",
       "    <tr>\n",
       "      <th>1</th>\n",
       "      <td>2010-01-05</td>\n",
       "      <td>57.340000</td>\n",
       "      <td>57.540001</td>\n",
       "      <td>57.110001</td>\n",
       "      <td>57.529999</td>\n",
       "      <td>44.860222</td>\n",
       "      <td>1597700</td>\n",
       "    </tr>\n",
       "    <tr>\n",
       "      <th>2</th>\n",
       "      <td>2010-01-06</td>\n",
       "      <td>57.500000</td>\n",
       "      <td>57.720001</td>\n",
       "      <td>57.410000</td>\n",
       "      <td>57.610001</td>\n",
       "      <td>44.922607</td>\n",
       "      <td>2120300</td>\n",
       "    </tr>\n",
       "    <tr>\n",
       "      <th>3</th>\n",
       "      <td>2010-01-07</td>\n",
       "      <td>57.549999</td>\n",
       "      <td>57.889999</td>\n",
       "      <td>57.290001</td>\n",
       "      <td>57.849998</td>\n",
       "      <td>45.109753</td>\n",
       "      <td>1656700</td>\n",
       "    </tr>\n",
       "    <tr>\n",
       "      <th>4</th>\n",
       "      <td>2010-01-08</td>\n",
       "      <td>57.700001</td>\n",
       "      <td>58.049999</td>\n",
       "      <td>57.560001</td>\n",
       "      <td>58.040001</td>\n",
       "      <td>45.257896</td>\n",
       "      <td>1650000</td>\n",
       "    </tr>\n",
       "  </tbody>\n",
       "</table>\n",
       "</div>"
      ],
      "text/plain": [
       "         Date       Open       High        Low      Close  Adj Close   Volume\n",
       "0  2010-01-04  56.860001  57.380001  56.840000  57.310001  44.688660  2251500\n",
       "1  2010-01-05  57.340000  57.540001  57.110001  57.529999  44.860222  1597700\n",
       "2  2010-01-06  57.500000  57.720001  57.410000  57.610001  44.922607  2120300\n",
       "3  2010-01-07  57.549999  57.889999  57.290001  57.849998  45.109753  1656700\n",
       "4  2010-01-08  57.700001  58.049999  57.560001  58.040001  45.257896  1650000"
      ]
     },
     "execution_count": 4,
     "metadata": {},
     "output_type": "execute_result"
    }
   ],
   "source": [
    "data.head()"
   ]
  },
  {
   "cell_type": "code",
   "execution_count": 5,
   "id": "4f1f968f",
   "metadata": {},
   "outputs": [
    {
     "data": {
      "text/html": [
       "<div>\n",
       "<style scoped>\n",
       "    .dataframe tbody tr th:only-of-type {\n",
       "        vertical-align: middle;\n",
       "    }\n",
       "\n",
       "    .dataframe tbody tr th {\n",
       "        vertical-align: top;\n",
       "    }\n",
       "\n",
       "    .dataframe thead th {\n",
       "        text-align: right;\n",
       "    }\n",
       "</style>\n",
       "<table border=\"1\" class=\"dataframe\">\n",
       "  <thead>\n",
       "    <tr style=\"text-align: right;\">\n",
       "      <th></th>\n",
       "      <th>Date</th>\n",
       "      <th>Open</th>\n",
       "      <th>High</th>\n",
       "      <th>Low</th>\n",
       "      <th>Close</th>\n",
       "      <th>Adj Close</th>\n",
       "      <th>Volume</th>\n",
       "    </tr>\n",
       "  </thead>\n",
       "  <tbody>\n",
       "    <tr>\n",
       "      <th>3412</th>\n",
       "      <td>2023-07-26</td>\n",
       "      <td>226.429993</td>\n",
       "      <td>227.770004</td>\n",
       "      <td>226.050003</td>\n",
       "      <td>227.059998</td>\n",
       "      <td>227.059998</td>\n",
       "      <td>1985600</td>\n",
       "    </tr>\n",
       "    <tr>\n",
       "      <th>3413</th>\n",
       "      <td>2023-07-27</td>\n",
       "      <td>228.809998</td>\n",
       "      <td>228.970001</td>\n",
       "      <td>224.830002</td>\n",
       "      <td>225.309998</td>\n",
       "      <td>225.309998</td>\n",
       "      <td>4730600</td>\n",
       "    </tr>\n",
       "    <tr>\n",
       "      <th>3414</th>\n",
       "      <td>2023-07-28</td>\n",
       "      <td>227.169998</td>\n",
       "      <td>228.029999</td>\n",
       "      <td>226.770004</td>\n",
       "      <td>227.660004</td>\n",
       "      <td>227.660004</td>\n",
       "      <td>2257600</td>\n",
       "    </tr>\n",
       "    <tr>\n",
       "      <th>3415</th>\n",
       "      <td>2023-07-31</td>\n",
       "      <td>228.119995</td>\n",
       "      <td>228.559998</td>\n",
       "      <td>227.559998</td>\n",
       "      <td>228.350006</td>\n",
       "      <td>228.350006</td>\n",
       "      <td>2658500</td>\n",
       "    </tr>\n",
       "    <tr>\n",
       "      <th>3416</th>\n",
       "      <td>2023-08-01</td>\n",
       "      <td>227.649994</td>\n",
       "      <td>228.000000</td>\n",
       "      <td>227.070007</td>\n",
       "      <td>227.729996</td>\n",
       "      <td>227.729996</td>\n",
       "      <td>2809500</td>\n",
       "    </tr>\n",
       "  </tbody>\n",
       "</table>\n",
       "</div>"
      ],
      "text/plain": [
       "            Date        Open        High         Low       Close   Adj Close  \\\n",
       "3412  2023-07-26  226.429993  227.770004  226.050003  227.059998  227.059998   \n",
       "3413  2023-07-27  228.809998  228.970001  224.830002  225.309998  225.309998   \n",
       "3414  2023-07-28  227.169998  228.029999  226.770004  227.660004  227.660004   \n",
       "3415  2023-07-31  228.119995  228.559998  227.559998  228.350006  228.350006   \n",
       "3416  2023-08-01  227.649994  228.000000  227.070007  227.729996  227.729996   \n",
       "\n",
       "       Volume  \n",
       "3412  1985600  \n",
       "3413  4730600  \n",
       "3414  2257600  \n",
       "3415  2658500  \n",
       "3416  2809500  "
      ]
     },
     "execution_count": 5,
     "metadata": {},
     "output_type": "execute_result"
    }
   ],
   "source": [
    "data.tail(5)"
   ]
  },
  {
   "cell_type": "code",
   "execution_count": 6,
   "id": "3bc3094c",
   "metadata": {},
   "outputs": [
    {
     "name": "stdout",
     "output_type": "stream",
     "text": [
      "<class 'pandas.core.frame.DataFrame'>\n",
      "RangeIndex: 3417 entries, 0 to 3416\n",
      "Data columns (total 7 columns):\n",
      " #   Column     Non-Null Count  Dtype  \n",
      "---  ------     --------------  -----  \n",
      " 0   Date       3417 non-null   object \n",
      " 1   Open       3417 non-null   float64\n",
      " 2   High       3417 non-null   float64\n",
      " 3   Low        3417 non-null   float64\n",
      " 4   Close      3417 non-null   float64\n",
      " 5   Adj Close  3417 non-null   float64\n",
      " 6   Volume     3417 non-null   int64  \n",
      "dtypes: float64(5), int64(1), object(1)\n",
      "memory usage: 187.0+ KB\n"
     ]
    }
   ],
   "source": [
    "data.info()"
   ]
  },
  {
   "cell_type": "code",
   "execution_count": 7,
   "id": "3d677ad7",
   "metadata": {},
   "outputs": [
    {
     "data": {
      "text/plain": [
       "(3417, 7)"
      ]
     },
     "execution_count": 7,
     "metadata": {},
     "output_type": "execute_result"
    }
   ],
   "source": [
    "data.shape"
   ]
  },
  {
   "cell_type": "code",
   "execution_count": 8,
   "id": "eb03cc2f",
   "metadata": {},
   "outputs": [
    {
     "data": {
      "text/html": [
       "<div>\n",
       "<style scoped>\n",
       "    .dataframe tbody tr th:only-of-type {\n",
       "        vertical-align: middle;\n",
       "    }\n",
       "\n",
       "    .dataframe tbody tr th {\n",
       "        vertical-align: top;\n",
       "    }\n",
       "\n",
       "    .dataframe thead th {\n",
       "        text-align: right;\n",
       "    }\n",
       "</style>\n",
       "<table border=\"1\" class=\"dataframe\">\n",
       "  <thead>\n",
       "    <tr style=\"text-align: right;\">\n",
       "      <th></th>\n",
       "      <th>Open</th>\n",
       "      <th>High</th>\n",
       "      <th>Low</th>\n",
       "      <th>Close</th>\n",
       "      <th>Adj Close</th>\n",
       "      <th>Volume</th>\n",
       "    </tr>\n",
       "  </thead>\n",
       "  <tbody>\n",
       "    <tr>\n",
       "      <th>count</th>\n",
       "      <td>3417.000000</td>\n",
       "      <td>3417.000000</td>\n",
       "      <td>3417.000000</td>\n",
       "      <td>3417.000000</td>\n",
       "      <td>3417.000000</td>\n",
       "      <td>3.417000e+03</td>\n",
       "    </tr>\n",
       "    <tr>\n",
       "      <th>mean</th>\n",
       "      <td>126.607091</td>\n",
       "      <td>127.273667</td>\n",
       "      <td>125.805762</td>\n",
       "      <td>126.605195</td>\n",
       "      <td>115.820445</td>\n",
       "      <td>2.959660e+06</td>\n",
       "    </tr>\n",
       "    <tr>\n",
       "      <th>std</th>\n",
       "      <td>51.986681</td>\n",
       "      <td>52.303624</td>\n",
       "      <td>51.618175</td>\n",
       "      <td>51.979109</td>\n",
       "      <td>55.164236</td>\n",
       "      <td>1.941927e+06</td>\n",
       "    </tr>\n",
       "    <tr>\n",
       "      <th>min</th>\n",
       "      <td>52.369999</td>\n",
       "      <td>52.689999</td>\n",
       "      <td>29.760000</td>\n",
       "      <td>52.080002</td>\n",
       "      <td>40.968609</td>\n",
       "      <td>3.519000e+05</td>\n",
       "    </tr>\n",
       "    <tr>\n",
       "      <th>25%</th>\n",
       "      <td>83.989998</td>\n",
       "      <td>84.300003</td>\n",
       "      <td>83.309998</td>\n",
       "      <td>83.930000</td>\n",
       "      <td>69.827530</td>\n",
       "      <td>1.796400e+06</td>\n",
       "    </tr>\n",
       "    <tr>\n",
       "      <th>50%</th>\n",
       "      <td>111.769997</td>\n",
       "      <td>112.050003</td>\n",
       "      <td>111.269997</td>\n",
       "      <td>111.709999</td>\n",
       "      <td>99.014435</td>\n",
       "      <td>2.494100e+06</td>\n",
       "    </tr>\n",
       "    <tr>\n",
       "      <th>75%</th>\n",
       "      <td>157.199997</td>\n",
       "      <td>158.339996</td>\n",
       "      <td>156.429993</td>\n",
       "      <td>157.789993</td>\n",
       "      <td>149.295959</td>\n",
       "      <td>3.481800e+06</td>\n",
       "    </tr>\n",
       "    <tr>\n",
       "      <th>max</th>\n",
       "      <td>243.729996</td>\n",
       "      <td>244.059998</td>\n",
       "      <td>242.429993</td>\n",
       "      <td>242.970001</td>\n",
       "      <td>237.214539</td>\n",
       "      <td>2.227240e+07</td>\n",
       "    </tr>\n",
       "  </tbody>\n",
       "</table>\n",
       "</div>"
      ],
      "text/plain": [
       "              Open         High          Low        Close    Adj Close  \\\n",
       "count  3417.000000  3417.000000  3417.000000  3417.000000  3417.000000   \n",
       "mean    126.607091   127.273667   125.805762   126.605195   115.820445   \n",
       "std      51.986681    52.303624    51.618175    51.979109    55.164236   \n",
       "min      52.369999    52.689999    29.760000    52.080002    40.968609   \n",
       "25%      83.989998    84.300003    83.309998    83.930000    69.827530   \n",
       "50%     111.769997   112.050003   111.269997   111.709999    99.014435   \n",
       "75%     157.199997   158.339996   156.429993   157.789993   149.295959   \n",
       "max     243.729996   244.059998   242.429993   242.970001   237.214539   \n",
       "\n",
       "             Volume  \n",
       "count  3.417000e+03  \n",
       "mean   2.959660e+06  \n",
       "std    1.941927e+06  \n",
       "min    3.519000e+05  \n",
       "25%    1.796400e+06  \n",
       "50%    2.494100e+06  \n",
       "75%    3.481800e+06  \n",
       "max    2.227240e+07  "
      ]
     },
     "execution_count": 8,
     "metadata": {},
     "output_type": "execute_result"
    }
   ],
   "source": [
    "data.describe()"
   ]
  },
  {
   "cell_type": "markdown",
   "id": "804164ec",
   "metadata": {},
   "source": [
    "# Missing values"
   ]
  },
  {
   "cell_type": "code",
   "execution_count": 57,
   "id": "022149c2",
   "metadata": {},
   "outputs": [
    {
     "data": {
      "text/plain": [
       "Date          0\n",
       "Open          0\n",
       "High          0\n",
       "Low           0\n",
       "Close         0\n",
       "Adj Close     0\n",
       "Volume        0\n",
       "Close_pred    0\n",
       "dtype: int64"
      ]
     },
     "execution_count": 57,
     "metadata": {},
     "output_type": "execute_result"
    }
   ],
   "source": [
    "\n",
    "data.isnull().sum()"
   ]
  },
  {
   "cell_type": "code",
   "execution_count": 10,
   "id": "cb2cc3a7",
   "metadata": {},
   "outputs": [
    {
     "data": {
      "text/html": [
       "<div>\n",
       "<style scoped>\n",
       "    .dataframe tbody tr th:only-of-type {\n",
       "        vertical-align: middle;\n",
       "    }\n",
       "\n",
       "    .dataframe tbody tr th {\n",
       "        vertical-align: top;\n",
       "    }\n",
       "\n",
       "    .dataframe thead th {\n",
       "        text-align: right;\n",
       "    }\n",
       "</style>\n",
       "<table border=\"1\" class=\"dataframe\">\n",
       "  <thead>\n",
       "    <tr style=\"text-align: right;\">\n",
       "      <th></th>\n",
       "      <th>Date</th>\n",
       "      <th>Open</th>\n",
       "      <th>High</th>\n",
       "      <th>Low</th>\n",
       "      <th>Close</th>\n",
       "      <th>Volume</th>\n",
       "    </tr>\n",
       "  </thead>\n",
       "  <tbody>\n",
       "    <tr>\n",
       "      <th>0</th>\n",
       "      <td>2010-01-04</td>\n",
       "      <td>56.860001</td>\n",
       "      <td>57.380001</td>\n",
       "      <td>56.840000</td>\n",
       "      <td>57.310001</td>\n",
       "      <td>2251500</td>\n",
       "    </tr>\n",
       "    <tr>\n",
       "      <th>1</th>\n",
       "      <td>2010-01-05</td>\n",
       "      <td>57.340000</td>\n",
       "      <td>57.540001</td>\n",
       "      <td>57.110001</td>\n",
       "      <td>57.529999</td>\n",
       "      <td>1597700</td>\n",
       "    </tr>\n",
       "    <tr>\n",
       "      <th>2</th>\n",
       "      <td>2010-01-06</td>\n",
       "      <td>57.500000</td>\n",
       "      <td>57.720001</td>\n",
       "      <td>57.410000</td>\n",
       "      <td>57.610001</td>\n",
       "      <td>2120300</td>\n",
       "    </tr>\n",
       "    <tr>\n",
       "      <th>3</th>\n",
       "      <td>2010-01-07</td>\n",
       "      <td>57.549999</td>\n",
       "      <td>57.889999</td>\n",
       "      <td>57.290001</td>\n",
       "      <td>57.849998</td>\n",
       "      <td>1656700</td>\n",
       "    </tr>\n",
       "    <tr>\n",
       "      <th>4</th>\n",
       "      <td>2010-01-08</td>\n",
       "      <td>57.700001</td>\n",
       "      <td>58.049999</td>\n",
       "      <td>57.560001</td>\n",
       "      <td>58.040001</td>\n",
       "      <td>1650000</td>\n",
       "    </tr>\n",
       "    <tr>\n",
       "      <th>...</th>\n",
       "      <td>...</td>\n",
       "      <td>...</td>\n",
       "      <td>...</td>\n",
       "      <td>...</td>\n",
       "      <td>...</td>\n",
       "      <td>...</td>\n",
       "    </tr>\n",
       "    <tr>\n",
       "      <th>3412</th>\n",
       "      <td>2023-07-26</td>\n",
       "      <td>226.429993</td>\n",
       "      <td>227.770004</td>\n",
       "      <td>226.050003</td>\n",
       "      <td>227.059998</td>\n",
       "      <td>1985600</td>\n",
       "    </tr>\n",
       "    <tr>\n",
       "      <th>3413</th>\n",
       "      <td>2023-07-27</td>\n",
       "      <td>228.809998</td>\n",
       "      <td>228.970001</td>\n",
       "      <td>224.830002</td>\n",
       "      <td>225.309998</td>\n",
       "      <td>4730600</td>\n",
       "    </tr>\n",
       "    <tr>\n",
       "      <th>3414</th>\n",
       "      <td>2023-07-28</td>\n",
       "      <td>227.169998</td>\n",
       "      <td>228.029999</td>\n",
       "      <td>226.770004</td>\n",
       "      <td>227.660004</td>\n",
       "      <td>2257600</td>\n",
       "    </tr>\n",
       "    <tr>\n",
       "      <th>3415</th>\n",
       "      <td>2023-07-31</td>\n",
       "      <td>228.119995</td>\n",
       "      <td>228.559998</td>\n",
       "      <td>227.559998</td>\n",
       "      <td>228.350006</td>\n",
       "      <td>2658500</td>\n",
       "    </tr>\n",
       "    <tr>\n",
       "      <th>3416</th>\n",
       "      <td>2023-08-01</td>\n",
       "      <td>227.649994</td>\n",
       "      <td>228.000000</td>\n",
       "      <td>227.070007</td>\n",
       "      <td>227.729996</td>\n",
       "      <td>2809500</td>\n",
       "    </tr>\n",
       "  </tbody>\n",
       "</table>\n",
       "<p>3417 rows × 6 columns</p>\n",
       "</div>"
      ],
      "text/plain": [
       "            Date        Open        High         Low       Close   Volume\n",
       "0     2010-01-04   56.860001   57.380001   56.840000   57.310001  2251500\n",
       "1     2010-01-05   57.340000   57.540001   57.110001   57.529999  1597700\n",
       "2     2010-01-06   57.500000   57.720001   57.410000   57.610001  2120300\n",
       "3     2010-01-07   57.549999   57.889999   57.290001   57.849998  1656700\n",
       "4     2010-01-08   57.700001   58.049999   57.560001   58.040001  1650000\n",
       "...          ...         ...         ...         ...         ...      ...\n",
       "3412  2023-07-26  226.429993  227.770004  226.050003  227.059998  1985600\n",
       "3413  2023-07-27  228.809998  228.970001  224.830002  225.309998  4730600\n",
       "3414  2023-07-28  227.169998  228.029999  226.770004  227.660004  2257600\n",
       "3415  2023-07-31  228.119995  228.559998  227.559998  228.350006  2658500\n",
       "3416  2023-08-01  227.649994  228.000000  227.070007  227.729996  2809500\n",
       "\n",
       "[3417 rows x 6 columns]"
      ]
     },
     "execution_count": 10,
     "metadata": {},
     "output_type": "execute_result"
    }
   ],
   "source": [
    "data.drop(columns=['Adj Close'])"
   ]
  },
  {
   "cell_type": "code",
   "execution_count": 11,
   "id": "632d3fea",
   "metadata": {},
   "outputs": [
    {
     "data": {
      "text/html": [
       "<div>\n",
       "<style scoped>\n",
       "    .dataframe tbody tr th:only-of-type {\n",
       "        vertical-align: middle;\n",
       "    }\n",
       "\n",
       "    .dataframe tbody tr th {\n",
       "        vertical-align: top;\n",
       "    }\n",
       "\n",
       "    .dataframe thead th {\n",
       "        text-align: right;\n",
       "    }\n",
       "</style>\n",
       "<table border=\"1\" class=\"dataframe\">\n",
       "  <thead>\n",
       "    <tr style=\"text-align: right;\">\n",
       "      <th></th>\n",
       "      <th>Date</th>\n",
       "      <th>Open</th>\n",
       "      <th>High</th>\n",
       "      <th>Low</th>\n",
       "      <th>Close</th>\n",
       "      <th>Adj Close</th>\n",
       "    </tr>\n",
       "  </thead>\n",
       "  <tbody>\n",
       "    <tr>\n",
       "      <th>0</th>\n",
       "      <td>2010-01-04</td>\n",
       "      <td>56.860001</td>\n",
       "      <td>57.380001</td>\n",
       "      <td>56.840000</td>\n",
       "      <td>57.310001</td>\n",
       "      <td>44.688660</td>\n",
       "    </tr>\n",
       "    <tr>\n",
       "      <th>1</th>\n",
       "      <td>2010-01-05</td>\n",
       "      <td>57.340000</td>\n",
       "      <td>57.540001</td>\n",
       "      <td>57.110001</td>\n",
       "      <td>57.529999</td>\n",
       "      <td>44.860222</td>\n",
       "    </tr>\n",
       "    <tr>\n",
       "      <th>2</th>\n",
       "      <td>2010-01-06</td>\n",
       "      <td>57.500000</td>\n",
       "      <td>57.720001</td>\n",
       "      <td>57.410000</td>\n",
       "      <td>57.610001</td>\n",
       "      <td>44.922607</td>\n",
       "    </tr>\n",
       "    <tr>\n",
       "      <th>3</th>\n",
       "      <td>2010-01-07</td>\n",
       "      <td>57.549999</td>\n",
       "      <td>57.889999</td>\n",
       "      <td>57.290001</td>\n",
       "      <td>57.849998</td>\n",
       "      <td>45.109753</td>\n",
       "    </tr>\n",
       "    <tr>\n",
       "      <th>4</th>\n",
       "      <td>2010-01-08</td>\n",
       "      <td>57.700001</td>\n",
       "      <td>58.049999</td>\n",
       "      <td>57.560001</td>\n",
       "      <td>58.040001</td>\n",
       "      <td>45.257896</td>\n",
       "    </tr>\n",
       "    <tr>\n",
       "      <th>...</th>\n",
       "      <td>...</td>\n",
       "      <td>...</td>\n",
       "      <td>...</td>\n",
       "      <td>...</td>\n",
       "      <td>...</td>\n",
       "      <td>...</td>\n",
       "    </tr>\n",
       "    <tr>\n",
       "      <th>3412</th>\n",
       "      <td>2023-07-26</td>\n",
       "      <td>226.429993</td>\n",
       "      <td>227.770004</td>\n",
       "      <td>226.050003</td>\n",
       "      <td>227.059998</td>\n",
       "      <td>227.059998</td>\n",
       "    </tr>\n",
       "    <tr>\n",
       "      <th>3413</th>\n",
       "      <td>2023-07-27</td>\n",
       "      <td>228.809998</td>\n",
       "      <td>228.970001</td>\n",
       "      <td>224.830002</td>\n",
       "      <td>225.309998</td>\n",
       "      <td>225.309998</td>\n",
       "    </tr>\n",
       "    <tr>\n",
       "      <th>3414</th>\n",
       "      <td>2023-07-28</td>\n",
       "      <td>227.169998</td>\n",
       "      <td>228.029999</td>\n",
       "      <td>226.770004</td>\n",
       "      <td>227.660004</td>\n",
       "      <td>227.660004</td>\n",
       "    </tr>\n",
       "    <tr>\n",
       "      <th>3415</th>\n",
       "      <td>2023-07-31</td>\n",
       "      <td>228.119995</td>\n",
       "      <td>228.559998</td>\n",
       "      <td>227.559998</td>\n",
       "      <td>228.350006</td>\n",
       "      <td>228.350006</td>\n",
       "    </tr>\n",
       "    <tr>\n",
       "      <th>3416</th>\n",
       "      <td>2023-08-01</td>\n",
       "      <td>227.649994</td>\n",
       "      <td>228.000000</td>\n",
       "      <td>227.070007</td>\n",
       "      <td>227.729996</td>\n",
       "      <td>227.729996</td>\n",
       "    </tr>\n",
       "  </tbody>\n",
       "</table>\n",
       "<p>3417 rows × 6 columns</p>\n",
       "</div>"
      ],
      "text/plain": [
       "            Date        Open        High         Low       Close   Adj Close\n",
       "0     2010-01-04   56.860001   57.380001   56.840000   57.310001   44.688660\n",
       "1     2010-01-05   57.340000   57.540001   57.110001   57.529999   44.860222\n",
       "2     2010-01-06   57.500000   57.720001   57.410000   57.610001   44.922607\n",
       "3     2010-01-07   57.549999   57.889999   57.290001   57.849998   45.109753\n",
       "4     2010-01-08   57.700001   58.049999   57.560001   58.040001   45.257896\n",
       "...          ...         ...         ...         ...         ...         ...\n",
       "3412  2023-07-26  226.429993  227.770004  226.050003  227.059998  227.059998\n",
       "3413  2023-07-27  228.809998  228.970001  224.830002  225.309998  225.309998\n",
       "3414  2023-07-28  227.169998  228.029999  226.770004  227.660004  227.660004\n",
       "3415  2023-07-31  228.119995  228.559998  227.559998  228.350006  228.350006\n",
       "3416  2023-08-01  227.649994  228.000000  227.070007  227.729996  227.729996\n",
       "\n",
       "[3417 rows x 6 columns]"
      ]
     },
     "execution_count": 11,
     "metadata": {},
     "output_type": "execute_result"
    }
   ],
   "source": [
    "data.drop(columns=['Volume'])"
   ]
  },
  {
   "cell_type": "code",
   "execution_count": 12,
   "id": "e67ec653",
   "metadata": {},
   "outputs": [
    {
     "data": {
      "text/plain": [
       "0"
      ]
     },
     "execution_count": 12,
     "metadata": {},
     "output_type": "execute_result"
    }
   ],
   "source": [
    "##finding the duplicate values\n",
    "data.duplicated().sum()"
   ]
  },
  {
   "cell_type": "markdown",
   "id": "c923e559",
   "metadata": {},
   "source": [
    "# Correlation Analysis"
   ]
  },
  {
   "cell_type": "code",
   "execution_count": 13,
   "id": "07efee93",
   "metadata": {},
   "outputs": [],
   "source": [
    "correlation=data.corr()"
   ]
  },
  {
   "cell_type": "code",
   "execution_count": 14,
   "id": "53cf3d12",
   "metadata": {},
   "outputs": [],
   "source": [
    "import seaborn as sns\n",
    "import matplotlib.pyplot as plt"
   ]
  },
  {
   "cell_type": "code",
   "execution_count": 15,
   "id": "aec82916",
   "metadata": {},
   "outputs": [
    {
     "data": {
      "text/plain": [
       "<AxesSubplot:>"
      ]
     },
     "execution_count": 15,
     "metadata": {},
     "output_type": "execute_result"
    },
    {
     "data": {
      "image/png": "[encoded data removed]",
      "text/plain": [
       "<Figure size 640x480 with 2 Axes>"
      ]
     },
     "metadata": {},
     "output_type": "display_data"
    }
   ],
   "source": [
    "## creating the heatmap\n",
    "sns.heatmap(correlation,cmap='plasma',center=0,annot=True)"
   ]
  },
  {
   "cell_type": "code",
   "execution_count": 16,
   "id": "cd728136",
   "metadata": {},
   "outputs": [
    {
     "data": {
      "text/plain": [
       "2010-01-04    1\n",
       "2019-01-10    1\n",
       "2019-01-14    1\n",
       "2019-01-15    1\n",
       "2019-01-16    1\n",
       "             ..\n",
       "2014-07-18    1\n",
       "2014-07-21    1\n",
       "2014-07-22    1\n",
       "2014-07-23    1\n",
       "2023-08-01    1\n",
       "Name: Date, Length: 3417, dtype: int64"
      ]
     },
     "execution_count": 16,
     "metadata": {},
     "output_type": "execute_result"
    }
   ],
   "source": [
    "data['Date'].value_counts()"
   ]
  },
  {
   "cell_type": "code",
   "execution_count": 17,
   "id": "605e22e0",
   "metadata": {},
   "outputs": [],
   "source": [
    "import plotly.express as px\n",
    "import matplotlib.pyplot as plt"
   ]
  },
  {
   "cell_type": "code",
   "execution_count": 18,
   "id": "e7e86da6",
   "metadata": {},
   "outputs": [
    {
     "data": {
      "image/png": "[encoded data removed]",
      "text/plain": [
       "<Figure size 640x480 with 1 Axes>"
      ]
     },
     "metadata": {},
     "output_type": "display_data"
    }
   ],
   "source": [
    "##plot price of VTI srock market increasind daliy\n",
    "data['Open'].plot()\n",
    "plt.title(\"Change in the stock markets daily\")\n",
    "plt.xlabel(\"Year\")\n",
    "plt.ylabel('Open')\n",
    "plt.show()"
   ]
  },
  {
   "cell_type": "code",
   "execution_count": 19,
   "id": "56c22720",
   "metadata": {},
   "outputs": [
    {
     "data": {
      "text/plain": [
       "<seaborn.axisgrid.FacetGrid at 0x20b2a8bff70>"
      ]
     },
     "execution_count": 19,
     "metadata": {},
     "output_type": "execute_result"
    },
    {
     "data": {
      "image/png": "[encoded data removed]",
      "text/plain": [
       "<Figure size 500x500 with 1 Axes>"
      ]
     },
     "metadata": {},
     "output_type": "display_data"
    }
   ],
   "source": [
    "sns.displot(data['Close'])"
   ]
  },
  {
   "cell_type": "code",
   "execution_count": 20,
   "id": "e73950be",
   "metadata": {},
   "outputs": [
    {
     "data": {
      "text/plain": [
       "<AxesSubplot:>"
      ]
     },
     "execution_count": 20,
     "metadata": {},
     "output_type": "execute_result"
    },
    {
     "data": {
      "image/png": "[encoded data removed]",
      "text/plain": [
       "<Figure size 640x480 with 1 Axes>"
      ]
     },
     "metadata": {},
     "output_type": "display_data"
    }
   ],
   "source": [
    "## creating the outliers\n",
    "data[['Open','Close','Low','High']].plot(kind='box')"
   ]
  },
  {
   "cell_type": "markdown",
   "id": "c47be394",
   "metadata": {},
   "source": [
    "# Splitting X and Y  into Training test and Testing Variables"
   ]
  },
  {
   "cell_type": "code",
   "execution_count": 21,
   "id": "d121aa63",
   "metadata": {},
   "outputs": [],
   "source": [
    "from sklearn.model_selection import train_test_split"
   ]
  },
  {
   "cell_type": "code",
   "execution_count": 23,
   "id": "ca2dc574",
   "metadata": {},
   "outputs": [],
   "source": [
    "x=data[['Open','High','Low']]\n",
    "y=data['Close']"
   ]
  },
  {
   "cell_type": "code",
   "execution_count": 24,
   "id": "11efcd3f",
   "metadata": {},
   "outputs": [],
   "source": [
    "x_train,x_test,y_train,y_test=train_test_split(x,y,test_size=0.1,random_state=0)"
   ]
  },
  {
   "cell_type": "code",
   "execution_count": 25,
   "id": "c769005a",
   "metadata": {},
   "outputs": [
    {
     "data": {
      "text/plain": [
       "((3075, 3), (342, 3))"
      ]
     },
     "execution_count": 25,
     "metadata": {},
     "output_type": "execute_result"
    }
   ],
   "source": [
    "x_train.shape,x_test.shape"
   ]
  },
  {
   "cell_type": "code",
   "execution_count": 26,
   "id": "90d602de",
   "metadata": {},
   "outputs": [
    {
     "data": {
      "text/plain": [
       "((3075,), (342,))"
      ]
     },
     "execution_count": 26,
     "metadata": {},
     "output_type": "execute_result"
    }
   ],
   "source": [
    "y_train.shape,y_test.shape"
   ]
  },
  {
   "cell_type": "markdown",
   "id": "9263e400",
   "metadata": {},
   "source": [
    "# Training the model using the linear regression"
   ]
  },
  {
   "cell_type": "code",
   "execution_count": 28,
   "id": "a34d1489",
   "metadata": {},
   "outputs": [],
   "source": [
    "from sklearn.linear_model import LinearRegression"
   ]
  },
  {
   "cell_type": "code",
   "execution_count": 29,
   "id": "87d79a8f",
   "metadata": {},
   "outputs": [],
   "source": [
    "model=LinearRegression()"
   ]
  },
  {
   "cell_type": "code",
   "execution_count": 30,
   "id": "aaa79f0a",
   "metadata": {},
   "outputs": [
    {
     "data": {
      "text/plain": [
       "LinearRegression()"
      ]
     },
     "execution_count": 30,
     "metadata": {},
     "output_type": "execute_result"
    }
   ],
   "source": [
    "model.fit(x_train,y_train)"
   ]
  },
  {
   "cell_type": "code",
   "execution_count": 31,
   "id": "c7c879c1",
   "metadata": {},
   "outputs": [
    {
     "data": {
      "text/plain": [
       "LinearRegression()"
      ]
     },
     "execution_count": 31,
     "metadata": {},
     "output_type": "execute_result"
    }
   ],
   "source": [
    "reg=LinearRegression()\n",
    "reg.fit(x,y)"
   ]
  },
  {
   "cell_type": "code",
   "execution_count": 32,
   "id": "ef19a49f",
   "metadata": {},
   "outputs": [],
   "source": [
    "prediction=reg.predict(x)"
   ]
  },
  {
   "cell_type": "code",
   "execution_count": 33,
   "id": "a9f7a24e",
   "metadata": {},
   "outputs": [
    {
     "data": {
      "text/plain": [
       "array([ 57.30738387,  57.36155077,  57.62847697, ..., 227.47397926,\n",
       "       227.93807653, 227.37387252])"
      ]
     },
     "execution_count": 33,
     "metadata": {},
     "output_type": "execute_result"
    }
   ],
   "source": [
    "prediction"
   ]
  },
  {
   "cell_type": "markdown",
   "id": "455ad219",
   "metadata": {},
   "source": [
    "# prediction using the own data"
   ]
  },
  {
   "cell_type": "code",
   "execution_count": 37,
   "id": "81ee5cda",
   "metadata": {},
   "outputs": [
    {
     "name": "stderr",
     "output_type": "stream",
     "text": [
      "D:\\New folder\\lib\\site-packages\\sklearn\\base.py:450: UserWarning: X does not have valid feature names, but LinearRegression was fitted with feature names\n",
      "  warnings.warn(\n",
      "D:\\New folder\\lib\\site-packages\\sklearn\\base.py:566: FutureWarning: Arrays of bytes/strings is being converted to decimal numbers if dtype='numeric'. This behavior is deprecated in 0.24 and will be removed in 1.1 (renaming of 0.26). Please convert your data to numeric values explicitly instead.\n",
      "  X = check_array(X, **check_params)\n"
     ]
    },
    {
     "data": {
      "text/plain": [
       "array([22.75571925])"
      ]
     },
     "execution_count": 37,
     "metadata": {},
     "output_type": "execute_result"
    }
   ],
   "source": [
    "reg.predict([['24.125445','29.236544','14.582145']])"
   ]
  },
  {
   "cell_type": "markdown",
   "id": "77b176f3",
   "metadata": {},
   "source": [
    "# Creating histograms for the data"
   ]
  },
  {
   "cell_type": "code",
   "execution_count": 41,
   "id": "84078d1a",
   "metadata": {},
   "outputs": [
    {
     "data": {
      "image/png": "[encoded data removed]",
      "text/plain": [
       "<Figure size 640x480 with 1 Axes>"
      ]
     },
     "metadata": {},
     "output_type": "display_data"
    },
    {
     "data": {
      "image/png": "[encoded data removed]",
      "text/plain": [
       "<Figure size 640x480 with 1 Axes>"
      ]
     },
     "metadata": {},
     "output_type": "display_data"
    },
    {
     "data": {
      "image/png": "[encoded data removed]",
      "text/plain": [
       "<Figure size 640x480 with 1 Axes>"
      ]
     },
     "metadata": {},
     "output_type": "display_data"
    },
    {
     "data": {
      "image/png": "[encoded data removed]",
      "text/plain": [
       "<Figure size 640x480 with 1 Axes>"
      ]
     },
     "metadata": {},
     "output_type": "display_data"
    }
   ],
   "source": [
    "features = ['Open','High','Low','Close']\n",
    "for feature in features:\n",
    "  plt.hist(data=data, x=feature)\n",
    "  plt.xticks(rotation=90)\n",
    "  plt.title(f'Histogram of {feature}')\n",
    "  plt.show()"
   ]
  },
  {
   "cell_type": "markdown",
   "id": "6306925d",
   "metadata": {},
   "source": [
    "#  Training the Model using Random forest "
   ]
  },
  {
   "cell_type": "code",
   "execution_count": 43,
   "id": "259ab30c",
   "metadata": {},
   "outputs": [],
   "source": [
    "from sklearn.ensemble import RandomForestRegressor\n",
    "from sklearn import metrics"
   ]
  },
  {
   "cell_type": "code",
   "execution_count": 44,
   "id": "d974c49d",
   "metadata": {},
   "outputs": [],
   "source": [
    "regressor = RandomForestRegressor(n_estimators=100)"
   ]
  },
  {
   "cell_type": "code",
   "execution_count": 46,
   "id": "bc2c088e",
   "metadata": {},
   "outputs": [
    {
     "data": {
      "text/plain": [
       "RandomForestRegressor()"
      ]
     },
     "execution_count": 46,
     "metadata": {},
     "output_type": "execute_result"
    }
   ],
   "source": [
    "regressor.fit(x_train,y_train)"
   ]
  },
  {
   "cell_type": "code",
   "execution_count": 47,
   "id": "ba09a41c",
   "metadata": {},
   "outputs": [],
   "source": [
    "# prediction on Test Data\n",
    "test_data_prediction = regressor.predict(x_test)"
   ]
  },
  {
   "cell_type": "code",
   "execution_count": 48,
   "id": "ef652b04",
   "metadata": {},
   "outputs": [],
   "source": [
    "y_test=list(y_test)"
   ]
  },
  {
   "cell_type": "code",
   "execution_count": 49,
   "id": "d4d72737",
   "metadata": {},
   "outputs": [
    {
     "data": {
      "image/png": "[encoded data removed]",
      "text/plain": [
       "<Figure size 640x480 with 1 Axes>"
      ]
     },
     "metadata": {},
     "output_type": "display_data"
    }
   ],
   "source": [
    "plt.plot(y_test, color='blue', label = 'Actual Value')\n",
    "plt.plot(test_data_prediction, color='green', label='Predicted Value')\n",
    "plt.title('Actual Price vs Predicted Price')\n",
    "plt.xlabel('Number of values')\n",
    "plt.ylabel('GLD Price')\n",
    "plt.legend()\n",
    "plt.show()"
   ]
  },
  {
   "cell_type": "markdown",
   "id": "fcaeae92",
   "metadata": {},
   "source": [
    "# R squared value"
   ]
  },
  {
   "cell_type": "code",
   "execution_count": 56,
   "id": "87f60167",
   "metadata": {},
   "outputs": [
    {
     "name": "stdout",
     "output_type": "stream",
     "text": [
      "R squared error :  0.9998190522690664\n"
     ]
    }
   ],
   "source": [
    "\n",
    "error_score = metrics.r2_score(y_test, test_data_prediction)\n",
    "print(\"R squared error : \", error_score)"
   ]
  },
  {
   "cell_type": "markdown",
   "id": "6768d623",
   "metadata": {},
   "source": [
    "# MSE\n"
   ]
  },
  {
   "cell_type": "code",
   "execution_count": 58,
   "id": "42ee4ef7",
   "metadata": {},
   "outputs": [],
   "source": [
    "\n",
    "data['Close_pred']=prediction"
   ]
  },
  {
   "cell_type": "code",
   "execution_count": 59,
   "id": "b3ddf61e",
   "metadata": {},
   "outputs": [
    {
     "data": {
      "text/plain": [
       "Index(['Open', 'High', 'Low'], dtype='object')"
      ]
     },
     "execution_count": 59,
     "metadata": {},
     "output_type": "execute_result"
    }
   ],
   "source": [
    "x_test.columns"
   ]
  },
  {
   "cell_type": "code",
   "execution_count": 60,
   "id": "ac4b4dcb",
   "metadata": {},
   "outputs": [
    {
     "data": {
      "text/plain": [
       "0.41067917853906327"
      ]
     },
     "execution_count": 60,
     "metadata": {},
     "output_type": "execute_result"
    }
   ],
   "source": [
    "from sklearn.metrics import mean_squared_error\n",
    "mse=mean_squared_error(data['Close'],data['Close_pred'])\n",
    "mse"
   ]
  },
  {
   "cell_type": "markdown",
   "id": "71eb0bea",
   "metadata": {},
   "source": [
    "# Pickle Function\n"
   ]
  },
  {
   "cell_type": "code",
   "execution_count": 61,
   "id": "2f159aac",
   "metadata": {},
   "outputs": [],
   "source": [
    "import pickle\n",
    "file=open(\"model.pkl\",'wb')\n",
    "pickle.dump(model,file)"
   ]
  },
  {
   "cell_type": "code",
   "execution_count": null,
   "id": "1820d9e5",
   "metadata": {},
   "outputs": [],
   "source": []
  }
 ],
 "metadata": {
  "kernelspec": {
   "display_name": "Python 3 (ipykernel)",
   "language": "python",
   "name": "python3"
  },
  "language_info": {
   "codemirror_mode": {
    "name": "ipython",
    "version": 3
   },
   "file_extension": ".py",
   "mimetype": "text/x-python",
   "name": "python",
   "nbconvert_exporter": "python",
   "pygments_lexer": "ipython3",
   "version": "3.9.13"
  }
 },
 "nbformat": 4,
 "nbformat_minor": 5
}
